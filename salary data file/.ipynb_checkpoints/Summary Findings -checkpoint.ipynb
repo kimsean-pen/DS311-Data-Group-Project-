{
 "cells": [
  {
   "cell_type": "code",
   "execution_count": 1,
   "id": "50814e54",
   "metadata": {},
   "outputs": [],
   "source": [
    "import pandas as pd\n",
    "import numpy as np \n",
    "import matplotlib.pyplot as plt\n",
    "import seaborn as sns"
   ]
  },
  {
   "cell_type": "code",
   "execution_count": 2,
   "id": "fe8c3506",
   "metadata": {},
   "outputs": [],
   "source": [
    "salary_data = pd.read_csv('salary_data_states.csv')\n"
   ]
  },
  {
   "cell_type": "code",
   "execution_count": 3,
   "id": "0ec5478e",
   "metadata": {},
   "outputs": [],
   "source": [
    "salary_data = salary_data['FULL_TIME_POSITION_Y_N'].value_counts()"
   ]
  },
  {
   "cell_type": "code",
   "execution_count": 7,
   "id": "5195d1d8",
   "metadata": {},
   "outputs": [
    {
     "name": "stdout",
     "output_type": "stream",
     "text": [
      "y    152594\n",
      "n      3591\n",
      "Name: FULL_TIME_POSITION_Y_N, dtype: int64\n"
     ]
    }
   ],
   "source": [
    "print(salary_data)"
   ]
  },
  {
   "cell_type": "code",
   "execution_count": 29,
   "id": "29a4f6d7",
   "metadata": {},
   "outputs": [
    {
     "name": "stdout",
     "output_type": "stream",
     "text": [
      "Column names:\n",
      "Index(['CASE_NUMBER', 'CASE_STATUS', 'CASE_RECEIVED_DATE', 'DECISION_DATE',\n",
      "       'EMPLOYER_NAME', 'PREVAILING_WAGE_SUBMITTED',\n",
      "       'PREVAILING_WAGE_SUBMITTED_UNIT', 'PAID_WAGE_SUBMITTED',\n",
      "       'PAID_WAGE_SUBMITTED_UNIT', 'JOB_TITLE', 'WORK_CITY',\n",
      "       'EDUCATION_LEVEL_REQUIRED', 'COLLEGE_MAJOR_REQUIRED',\n",
      "       'EXPERIENCE_REQUIRED_Y_N', 'EXPERIENCE_REQUIRED_NUM_MONTHS',\n",
      "       'COUNTRY_OF_CITIZENSHIP', 'PREVAILING_WAGE_SOC_CODE',\n",
      "       'PREVAILING_WAGE_SOC_TITLE', 'WORK_STATE', 'WORK_STATE_ABBREVIATION',\n",
      "       'WORK_POSTAL_CODE', 'FULL_TIME_POSITION_Y_N', 'VISA_CLASS',\n",
      "       'PREVAILING_WAGE_PER_YEAR', 'PAID_WAGE_PER_YEAR', 'JOB_TITLE_SUBGROUP',\n",
      "       'order'],\n",
      "      dtype='object')\n",
      "\n",
      "Unique values in FULL_TIME_POSITION_Y_N column:\n",
      "['y' nan 'n']\n"
     ]
    }
   ],
   "source": [
    "salary_data = pd.read_csv('salary_data_states.csv')\n",
    "\n",
    "print(\"Column names:\")\n",
    "print(salary_data.columns)\n",
    "\n",
    "\n",
    "print(\"\\nUnique values in FULL_TIME_POSITION_Y_N column:\")\n",
    "print(salary_data['FULL_TIME_POSITION_Y_N'].unique())\n"
   ]
  },
  {
   "cell_type": "code",
   "execution_count": 31,
   "id": "ebd2d063",
   "metadata": {},
   "outputs": [
    {
     "name": "stdout",
     "output_type": "stream",
     "text": [
      "WORK_STATE\n",
      "Palau                           1\n",
      "Wyoming                        42\n",
      "Northern Mariana Islands       56\n",
      "Montana                        56\n",
      "Alaska                         59\n",
      "Guam                           60\n",
      "Vermont                        87\n",
      "South Dakota                   91\n",
      "Virgin Islands                 97\n",
      "Puerto Rico                   105\n",
      "North Dakota                  125\n",
      "Hawaii                        154\n",
      "Idaho                         178\n",
      "Maine                         198\n",
      "West Virginia                 295\n",
      "Mississippi                   323\n",
      "Nevada                        393\n",
      "New Hampshire                 401\n",
      "Alabama                       489\n",
      "Rhode Island                  494\n",
      "Oklahoma                      510\n",
      "Arkansas                      529\n",
      "New Mexico                    530\n",
      "Nebraska                      556\n",
      "Kentucky                      572\n",
      "Kansas                        692\n",
      "Utah                          701\n",
      "Delaware                      803\n",
      "Louisiana                     810\n",
      "South Carolina                817\n",
      "Iowa                          924\n",
      "Tennessee                     993\n",
      "District of Columbia         1284\n",
      "Oregon                       1285\n",
      "Wisconsin                    1305\n",
      "Indiana                      1457\n",
      "Colorado                     1501\n",
      "Connecticut                  1898\n",
      "Minnesota                    1965\n",
      "Arizona                      2337\n",
      "Missouri                     2613\n",
      "Ohio                         2978\n",
      "Maryland                     3017\n",
      "North Carolina               3383\n",
      "Michigan                     3566\n",
      "Florida                      3772\n",
      "Pennsylvania                 4279\n",
      "Washington                   4317\n",
      "Georgia                      5340\n",
      "Virginia                     5398\n",
      "Massachusetts                6277\n",
      "Illinois                     6967\n",
      "New Jersey                   8952\n",
      "New York                    10324\n",
      "Texas                       14275\n",
      "California                  41963\n",
      "Name: FULL_TIME_POSITION_Y_N, dtype: int64\n"
     ]
    }
   ],
   "source": [
    "salary_data = pd.read_csv('salary_data_states.csv')\n",
    "\n",
    "salary_data = salary_data[salary_data['FULL_TIME_POSITION_Y_N'] == \"y\"]\n",
    "\n",
    "full_time_by_state = salary_data.groupby('WORK_STATE')['FULL_TIME_POSITION_Y_N'].count()\n",
    "\n",
    "sort_by_greatest = full_time_by_state.sort_values()\n",
    "\n",
    "print(sort_by_greatest)\n"
   ]
  },
  {
   "cell_type": "code",
   "execution_count": null,
   "id": "1d6432cb",
   "metadata": {},
   "outputs": [],
   "source": []
  },
  {
   "cell_type": "code",
   "execution_count": 26,
   "id": "55a78703",
   "metadata": {},
   "outputs": [],
   "source": [
    "df = pd.read_csv('salary_data_states.csv')"
   ]
  },
  {
   "cell_type": "code",
   "execution_count": 9,
   "id": "f534a8ac",
   "metadata": {},
   "outputs": [],
   "source": [
    "states= df['WORK_STATE'].unique()"
   ]
  },
  {
   "cell_type": "code",
   "execution_count": 10,
   "id": "092ebe92",
   "metadata": {},
   "outputs": [
    {
     "name": "stdout",
     "output_type": "stream",
     "text": [
      "['Illinois' 'California' 'Texas' 'Oregon' 'New Jersey' 'New York'\n",
      " 'Connecticut' 'Washington' 'Maryland' 'North Carolina'\n",
      " 'District of Columbia' 'South Carolina' 'Rhode Island' 'Colorado'\n",
      " 'Michigan' 'Missouri' 'Minnesota' 'Wyoming' 'Louisiana' 'Pennsylvania'\n",
      " 'Tennessee' 'Idaho' 'Massachusetts' 'Nebraska' 'Georgia' 'Ohio' 'Florida'\n",
      " 'Indiana' 'Arizona' 'Kentucky' 'Iowa' 'Wisconsin' 'Alabama' 'Arkansas'\n",
      " 'Virginia' 'New Mexico' 'West Virginia' 'Oklahoma' 'Utah' 'Nevada'\n",
      " 'Mississippi' 'New Hampshire' 'Delaware' 'Kansas' 'Alaska' 'Hawaii'\n",
      " 'Vermont' 'North Dakota' 'Maine' 'Montana' 'Virgin Islands'\n",
      " 'South Dakota' 'Guam' 'Puerto Rico' 'Palau' 'Guamam'\n",
      " 'Northern Mariana Islands']\n"
     ]
    }
   ],
   "source": [
    "print(states)"
   ]
  },
  {
   "cell_type": "code",
   "execution_count": 12,
   "id": "34d83336",
   "metadata": {},
   "outputs": [
    {
     "name": "stdout",
     "output_type": "stream",
     "text": [
      "JOB_TITLE_SUBGROUP\n",
      "assistant professor       94876.713707\n",
      "attorney                 146413.596714\n",
      "business analyst          71300.079566\n",
      "data analyst              70030.078688\n",
      "data scientist           108021.038248\n",
      "management consultant    108251.334662\n",
      "software engineer         92505.303013\n",
      "teacher                   46039.985507\n",
      "Name: PAID_WAGE_PER_YEAR, dtype: float64\n"
     ]
    }
   ],
   "source": [
    "salary_data = pd.read_csv('salary_data_states.csv')\n",
    "avg_salaries = salary_data.groupby('JOB_TITLE_SUBGROUP').mean()['PAID_WAGE_PER_YEAR']\n",
    "print(avg_salaries)"
   ]
  },
  {
   "cell_type": "code",
   "execution_count": 14,
   "id": "738cdf1d",
   "metadata": {},
   "outputs": [
    {
     "name": "stdout",
     "output_type": "stream",
     "text": [
      "WORK_STATE  JOB_TITLE_SUBGROUP   \n",
      "Alabama     assistant professor       80286.773785\n",
      "            attorney                 112408.243636\n",
      "            business analyst          52080.221429\n",
      "            data analyst              51092.333333\n",
      "            management consultant     99008.000000\n",
      "                                         ...      \n",
      "Wyoming     assistant professor       70396.769231\n",
      "            attorney                  66443.640000\n",
      "            business analyst          54011.000000\n",
      "            software engineer         56068.333333\n",
      "            teacher                   47345.500000\n",
      "Name: PAID_WAGE_SUBMITTED, Length: 370, dtype: float64\n"
     ]
    }
   ],
   "source": [
    "salary_data = pd.read_csv('salary_data_states.csv')\n",
    "grouped = salary_data.groupby([\"WORK_STATE\",\"JOB_TITLE_SUBGROUP\"])[\"PAID_WAGE_SUBMITTED\"].mean()\n",
    "print(grouped)"
   ]
  },
  {
   "cell_type": "code",
   "execution_count": 18,
   "id": "ae59bbcd",
   "metadata": {},
   "outputs": [
    {
     "name": "stdout",
     "output_type": "stream",
     "text": [
      "WORK_STATE  JOB_TITLE_SUBGROUP   \n",
      "California  assistant professor       90227.70\n",
      "            attorney                 120995.16\n",
      "            business analyst          68455.19\n",
      "            data analyst              77205.48\n",
      "            data scientist           117007.67\n",
      "            management consultant     59428.49\n",
      "            software engineer        106876.98\n",
      "            teacher                   39998.97\n",
      "Colorado    assistant professor       87870.38\n",
      "            attorney                  69639.11\n",
      "            business analyst          66587.60\n",
      "            data analyst              62969.13\n",
      "            data scientist            75347.78\n",
      "            management consultant     78801.50\n",
      "            software engineer         78731.11\n",
      "            teacher                   36348.52\n",
      "Florida     assistant professor      100299.38\n",
      "            attorney                  74345.26\n",
      "            business analyst          55102.95\n",
      "            data analyst              58721.96\n",
      "            data scientist            66521.43\n",
      "            management consultant     49025.22\n",
      "            software engineer         70039.55\n",
      "            teacher                   33210.48\n",
      "New York    assistant professor       88398.46\n",
      "            attorney                 154383.95\n",
      "            business analyst          69839.21\n",
      "            data analyst              67886.95\n",
      "            data scientist           106332.28\n",
      "            management consultant     60820.45\n",
      "            software engineer         96209.29\n",
      "            teacher                   37446.17\n",
      "Tennessee   assistant professor       66443.30\n",
      "            business analyst          64224.83\n",
      "            data analyst              62247.00\n",
      "            data scientist               35.00\n",
      "            management consultant     68044.00\n",
      "            software engineer         71031.99\n",
      "            teacher                   39218.43\n",
      "Name: PAID_WAGE_SUBMITTED, dtype: float64\n"
     ]
    }
   ],
   "source": [
    "selected_states = [\"California\", \"Colorado\", \"New York\", \"Tennessee\", \"Florida\"]\n",
    "\n",
    "filtered_states = salary_data[salary_data[\"WORK_STATE\"].isin(selected_states)]\n",
    "stateAndSalary = filtered_states.groupby([\"WORK_STATE\", \"JOB_TITLE_SUBGROUP\"])[\"PAID_WAGE_SUBMITTED\"].mean()\n",
    "group_rounded = stateAndSalary.round(2)\n",
    "print(group_rounded)\n",
    "\n",
    "\n",
    "\n"
   ]
  },
  {
   "cell_type": "code",
   "execution_count": 33,
   "id": "c9351df2",
   "metadata": {},
   "outputs": [
    {
     "name": "stdout",
     "output_type": "stream",
     "text": [
      "EMPLOYER_NAME\n",
      "GOOGLE INC.                        6213\n",
      "FUJITSU AMERICA, INC.              1814\n",
      "INTEL CORPORATION                  1781\n",
      "MICROSOFT CORPORATION              1364\n",
      "QUALCOMM TECHNOLOGIES, INC.        1277\n",
      "                                   ... \n",
      "PATTERSON COMPANIES, INC.             1\n",
      "PATTON ELECTRONICS, CO.               1\n",
      "ERP LOGIC, INC.                       1\n",
      "ERP INTERGRATED SOLUTIONS, INC.       1\n",
      "ËNIMAI, INC.                          1\n",
      "Length: 23773, dtype: int64\n"
     ]
    }
   ],
   "source": [
    "salary_data = pd.read_csv('salary_data_states.csv')\n",
    "employee_count_by_company = salary_data.groupby('EMPLOYER_NAME').size()\n",
    "sort_employee_count = employee_count_by_company.sort_values(ascending = False)\n",
    "\n",
    "print (sort_employee_count)\n",
    "\n"
   ]
  },
  {
   "cell_type": "code",
   "execution_count": 39,
   "id": "62e4d33d",
   "metadata": {},
   "outputs": [
    {
     "name": "stdout",
     "output_type": "stream",
     "text": [
      "269\n"
     ]
    }
   ],
   "source": [
    "salary_data = pd.read_csv('salary_data_states.csv')\n",
    "\n",
    "sf_data = salary_data[salary_data['WORK_CITY'] == 'San Francisco']\n",
    "\n",
    "employee_in_sf = sf_data.shape[0]\n",
    "\n",
    "print(employee_in_sf)\n"
   ]
  },
  {
   "cell_type": "code",
   "execution_count": 40,
   "id": "f6b406e8",
   "metadata": {},
   "outputs": [
    {
     "name": "stdout",
     "output_type": "stream",
     "text": [
      "4\n"
     ]
    }
   ],
   "source": [
    "salary_data = pd.read_csv('salary_data_states.csv')\n",
    "\n",
    "sf_data_analysts = salary_data[(salary_data['WORK_CITY'] == 'San Francisco') & (salary_data['JOB_TITLE'].str.contains('Data Analyst', case=False))]\n",
    "\n",
    "count_data_analysts_sf = sf_data_analysts.shape[0]\n",
    "\n",
    "print(count_data_analysts_sf)\n"
   ]
  },
  {
   "cell_type": "code",
   "execution_count": 41,
   "id": "f9943381",
   "metadata": {},
   "outputs": [
    {
     "name": "stdout",
     "output_type": "stream",
     "text": [
      "VISA_CLASS\n",
      "E-3 Australian       702\n",
      "H-1B               22067\n",
      "H-1B1 Chile           67\n",
      "H-1B1 Singapore       85\n",
      "greencard           2986\n",
      "Name: EMPLOYER_NAME, dtype: int64\n"
     ]
    }
   ],
   "source": [
    "salary_data = pd.read_csv('salary_data_states.csv')\n",
    "\n",
    "employer_count_by_visa_class = salary_data.groupby('VISA_CLASS')['EMPLOYER_NAME'].nunique()\n",
    "\n",
    "print(employer_count_by_visa_class)\n"
   ]
  },
  {
   "cell_type": "code",
   "execution_count": null,
   "id": "7f5ec050",
   "metadata": {},
   "outputs": [],
   "source": []
  }
 ],
 "metadata": {
  "kernelspec": {
   "display_name": "Python 3 (ipykernel)",
   "language": "python",
   "name": "python3"
  },
  "language_info": {
   "codemirror_mode": {
    "name": "ipython",
    "version": 3
   },
   "file_extension": ".py",
   "mimetype": "text/x-python",
   "name": "python",
   "nbconvert_exporter": "python",
   "pygments_lexer": "ipython3",
   "version": "3.9.13"
  }
 },
 "nbformat": 4,
 "nbformat_minor": 5
}
