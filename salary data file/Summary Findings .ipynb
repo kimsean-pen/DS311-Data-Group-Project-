{
 "cells": [
  {
   "cell_type": "code",
   "execution_count": 23,
   "id": "50814e54",
   "metadata": {},
   "outputs": [],
   "source": [
    "import pandas as pd\n",
    "import numpy as np \n",
    "import matplotlib.pyplot as plt\n",
    "import seaborn as sns"
   ]
  },
  {
   "cell_type": "code",
   "execution_count": 24,
   "id": "fe8c3506",
   "metadata": {},
   "outputs": [],
   "source": [
    "salary_data = pd.read_csv('salary_data_states.csv')\n"
   ]
  },
  {
   "cell_type": "code",
   "execution_count": 25,
   "id": "0ec5478e",
   "metadata": {},
   "outputs": [],
   "source": [
    "salary_data = salary_data['FULL_TIME_POSITION_Y_N'].value_counts()"
   ]
  },
  {
   "cell_type": "code",
   "execution_count": 26,
   "id": "5195d1d8",
   "metadata": {},
   "outputs": [
    {
     "name": "stdout",
     "output_type": "stream",
     "text": [
      "y    152594\n",
      "n      3591\n",
      "Name: FULL_TIME_POSITION_Y_N, dtype: int64\n"
     ]
    }
   ],
   "source": [
    "print(salary_data)"
   ]
  },
  {
   "cell_type": "code",
   "execution_count": 30,
   "id": "55a78703",
   "metadata": {},
   "outputs": [],
   "source": [
    "df = pd.read_csv('salary_data_states.csv')"
   ]
  },
  {
   "cell_type": "code",
   "execution_count": 31,
   "id": "f534a8ac",
   "metadata": {},
   "outputs": [],
   "source": [
    "states= df['WORK_STATE'].unique()"
   ]
  },
  {
   "cell_type": "code",
   "execution_count": 32,
   "id": "092ebe92",
   "metadata": {},
   "outputs": [
    {
     "name": "stdout",
     "output_type": "stream",
     "text": [
      "['Illinois' 'California' 'Texas' 'Oregon' 'New Jersey' 'New York'\n",
      " 'Connecticut' 'Washington' 'Maryland' 'North Carolina'\n",
      " 'District of Columbia' 'South Carolina' 'Rhode Island' 'Colorado'\n",
      " 'Michigan' 'Missouri' 'Minnesota' 'Wyoming' 'Louisiana' 'Pennsylvania'\n",
      " 'Tennessee' 'Idaho' 'Massachusetts' 'Nebraska' 'Georgia' 'Ohio' 'Florida'\n",
      " 'Indiana' 'Arizona' 'Kentucky' 'Iowa' 'Wisconsin' 'Alabama' 'Arkansas'\n",
      " 'Virginia' 'New Mexico' 'West Virginia' 'Oklahoma' 'Utah' 'Nevada'\n",
      " 'Mississippi' 'New Hampshire' 'Delaware' 'Kansas' 'Alaska' 'Hawaii'\n",
      " 'Vermont' 'North Dakota' 'Maine' 'Montana' 'Virgin Islands'\n",
      " 'South Dakota' 'Guam' 'Puerto Rico' 'Palau' 'Guamam'\n",
      " 'Northern Mariana Islands']\n"
     ]
    }
   ],
   "source": [
    "print(states)"
   ]
  },
  {
   "cell_type": "code",
   "execution_count": 38,
   "id": "34d83336",
   "metadata": {},
   "outputs": [
    {
     "name": "stdout",
     "output_type": "stream",
     "text": [
      "JOB_TITLE_SUBGROUP\n",
      "assistant professor       94876.713707\n",
      "attorney                 146413.596714\n",
      "business analyst          71300.079566\n",
      "data analyst              70030.078688\n",
      "data scientist           108021.038248\n",
      "management consultant    108251.334662\n",
      "software engineer         92505.303013\n",
      "teacher                   46039.985507\n",
      "Name: PAID_WAGE_PER_YEAR, dtype: float64\n"
     ]
    }
   ],
   "source": [
    "\n",
    "avg_salaries = salary_data.groupby('JOB_TITLE_SUBGROUP').mean()['PAID_WAGE_PER_YEAR']\n",
    "print(avg_salaries)"
   ]
  },
  {
   "cell_type": "code",
   "execution_count": null,
   "id": "738cdf1d",
   "metadata": {},
   "outputs": [],
   "source": []
  },
  {
   "cell_type": "code",
   "execution_count": null,
   "id": "ae59bbcd",
   "metadata": {},
   "outputs": [],
   "source": []
  }
 ],
 "metadata": {
  "kernelspec": {
   "display_name": "Python 3 (ipykernel)",
   "language": "python",
   "name": "python3"
  },
  "language_info": {
   "codemirror_mode": {
    "name": "ipython",
    "version": 3
   },
   "file_extension": ".py",
   "mimetype": "text/x-python",
   "name": "python",
   "nbconvert_exporter": "python",
   "pygments_lexer": "ipython3",
   "version": "3.9.13"
  }
 },
 "nbformat": 4,
 "nbformat_minor": 5
}
