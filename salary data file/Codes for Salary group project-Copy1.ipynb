{
 "cells": [
  {
   "cell_type": "code",
   "execution_count": 52,
   "id": "4730491c",
   "metadata": {},
   "outputs": [],
   "source": [
    "import pandas as pd\n",
    "import numpy as np\n",
    "import matplotlib.pyplot as plt\n",
    "import seaborn as sns"
   ]
  },
  {
   "cell_type": "code",
   "execution_count": 53,
   "id": "042cc1b6",
   "metadata": {},
   "outputs": [],
   "source": [
    "salary_data = pd.read_csv('salary_data_states.csv')"
   ]
  },
  {
   "cell_type": "code",
   "execution_count": 54,
   "id": "88c7489d",
   "metadata": {},
   "outputs": [],
   "source": [
    "avg_salaries = salary_data.groupby('JOB_TITLE_SUBGROUP').mean()['PAID_WAGE_PER_YEAR']"
   ]
  },
  {
   "cell_type": "code",
   "execution_count": 55,
   "id": "99a378d2",
   "metadata": {},
   "outputs": [
    {
     "name": "stdout",
     "output_type": "stream",
     "text": [
      "JOB_TITLE_SUBGROUP\n",
      "assistant professor       94876.713707\n",
      "attorney                 146413.596714\n",
      "business analyst          71300.079566\n",
      "data analyst              70030.078688\n",
      "data scientist           108021.038248\n",
      "management consultant    108251.334662\n",
      "software engineer         92505.303013\n",
      "teacher                   46039.985507\n",
      "Name: PAID_WAGE_PER_YEAR, dtype: float64\n"
     ]
    }
   ],
   "source": [
    "print (avg_salaries)"
   ]
  },
  {
   "cell_type": "code",
   "execution_count": 85,
   "id": "d070049f",
   "metadata": {},
   "outputs": [],
   "source": [
    "avg_salaries = avg_salaries.fillna(0)"
   ]
  },
  {
   "cell_type": "code",
   "execution_count": 141,
   "id": "e71a0e00",
   "metadata": {},
   "outputs": [],
   "source": [
    "data_analyst_salary = avg_salaries.filter(like='data analyst')\n",
    "data_scientist_salary = avg_salaries.filter(like='data scientist')\n",
    "business_analyst_salary = avg_salaries.filter(like='business analyst')\n",
    "software_engineer_salary = avg_salaries.filter(like='software engineer')"
   ]
  },
  {
   "cell_type": "code",
   "execution_count": 142,
   "id": "237fbc67",
   "metadata": {},
   "outputs": [
    {
     "name": "stdout",
     "output_type": "stream",
     "text": [
      "JOB_TITLE_SUBGROUP\n",
      "data analyst    70030.078688\n",
      "Name: PAID_WAGE_PER_YEAR, dtype: float64 JOB_TITLE_SUBGROUP\n",
      "data scientist    108021.038248\n",
      "Name: PAID_WAGE_PER_YEAR, dtype: float64 JOB_TITLE_SUBGROUP\n",
      "business analyst    71300.079566\n",
      "Name: PAID_WAGE_PER_YEAR, dtype: float64 JOB_TITLE_SUBGROUP\n",
      "software engineer    92505.303013\n",
      "Name: PAID_WAGE_PER_YEAR, dtype: float64\n"
     ]
    }
   ],
   "source": [
    "print(data_analyst_salary,data_scientist_salary,business_analyst_salary, software_engineer_salary)"
   ]
  },
  {
   "cell_type": "code",
   "execution_count": 144,
   "id": "707077b4",
   "metadata": {},
   "outputs": [],
   "source": [
    "salaries = [data_analyst_salary, data_scientist_salary, business_analyst_salary, software_engineer_salary]\n",
    "jobs = ['Data Analyst', 'Data Scientist', 'Business Analyst', 'Software Engineer']"
   ]
  },
  {
   "cell_type": "code",
   "execution_count": 145,
   "id": "603489ed",
   "metadata": {},
   "outputs": [],
   "source": [
    "data_analyst_salary = data_analyst_salary.sort_values(ascending=False)\n",
    "data_scientist_salary = data_scientist_salary.sort_values(ascending=False)\n",
    "business_analyst_salary = business_analyst_salary.sort_values(ascending=False)\n",
    "software_engineer_salary = software_engineer_salary.sort_values(ascending=False)"
   ]
  },
  {
   "cell_type": "code",
   "execution_count": 178,
   "id": "2b5115d9",
   "metadata": {},
   "outputs": [
    {
     "name": "stdout",
     "output_type": "stream",
     "text": [
      "Average Salary for Data Analysts:\n",
      "      Job Title  Salary\n",
      "0  Data Analyst   70030\n",
      "\n",
      "Average Salary for Data Scientists:\n",
      "        Job Title  Salary\n",
      "1  Data Scientist  108021\n",
      "\n",
      "Average Salary for Business Analyst:\n",
      "          Job Title  Salary\n",
      "2  Business Analyst   71300\n",
      "\n",
      "Average Salary for Software Enigneer:\n",
      "           Job Title  Salary\n",
      "3  Software Engineer   92505\n"
     ]
    }
   ],
   "source": [
    "print(\"Average Salary for Data Analysts:\")\n",
    "print(data_analyst_salary)\n",
    "print(\"\\nAverage Salary for Data Scientists:\")\n",
    "print(data_scientist_salary)\n",
    "print(\"\\nAverage Salary for Business Analyst:\")\n",
    "print(business_analyst_salary)\n",
    "print(\"\\nAverage Salary for Software Enigneer:\")\n",
    "print(software_engineer_salary)"
   ]
  },
  {
   "cell_type": "code",
   "execution_count": 179,
   "id": "8b38b6b8",
   "metadata": {},
   "outputs": [],
   "source": [
    "salaries = pd.concat([data_analyst_salary, data_scientist_salary, business_analyst_salary, software_engineer_salary], axis=1)"
   ]
  },
  {
   "cell_type": "code",
   "execution_count": 180,
   "id": "d2baab18",
   "metadata": {},
   "outputs": [],
   "source": [
    "jobs = ['Data Analyst', 'Data Scientist', 'Business Analyst']\n",
    "salaries = [data_analyst_salary, data_scientist_salary, business_analyst_salary]"
   ]
  },
  {
   "cell_type": "code",
   "execution_count": 182,
   "id": "336e9933",
   "metadata": {},
   "outputs": [],
   "source": [
    "avg_salaries = pd.DataFrame({\n",
    "    'Job Title': ['Data Analyst', 'Data Scientist', 'Business Analyst', 'Software Engineer'],\n",
    "    'Salary': [70030, 108021, 71300, 92505]\n",
    "})"
   ]
  },
  {
   "cell_type": "code",
   "execution_count": 183,
   "id": "fe5f0078",
   "metadata": {},
   "outputs": [],
   "source": [
    "data_analyst_salary = avg_salaries[avg_salaries['Job Title'].str.contains('Data Analyst')]\n",
    "data_scientist_salary = avg_salaries[avg_salaries['Job Title'].str.contains('Data Scientist')]\n",
    "business_analyst_salary = avg_salaries[avg_salaries['Job Title'].str.contains('Business Analyst')]\n",
    "software_engineer_salary = avg_salaries[avg_salaries['Job Title'].str.contains('Software Engineer')]"
   ]
  },
  {
   "cell_type": "code",
   "execution_count": 184,
   "id": "b7df81b9",
   "metadata": {},
   "outputs": [],
   "source": [
    "salary_table = pd.concat([data_analyst_salary, data_scientist_salary, business_analyst_salary, software_engineer_salary])\n",
    "salary_table.reset_index(drop=True, inplace=True)"
   ]
  },
  {
   "cell_type": "code",
   "execution_count": 364,
   "id": "be790e33",
   "metadata": {},
   "outputs": [
    {
     "name": "stdout",
     "output_type": "stream",
     "text": [
      "           Job Title  Salary\n",
      "0       Data Analyst   70030\n",
      "1     Data Scientist  108021\n",
      "2   Business Analyst   71300\n",
      "3  Software Engineer   92505\n"
     ]
    },
    {
     "data": {
      "text/html": [
       "<div>\n",
       "<style scoped>\n",
       "    .dataframe tbody tr th:only-of-type {\n",
       "        vertical-align: middle;\n",
       "    }\n",
       "\n",
       "    .dataframe tbody tr th {\n",
       "        vertical-align: top;\n",
       "    }\n",
       "\n",
       "    .dataframe thead th {\n",
       "        text-align: right;\n",
       "    }\n",
       "</style>\n",
       "<table border=\"1\" class=\"dataframe\">\n",
       "  <thead>\n",
       "    <tr style=\"text-align: right;\">\n",
       "      <th></th>\n",
       "      <th>Job Title</th>\n",
       "      <th>Salary</th>\n",
       "    </tr>\n",
       "  </thead>\n",
       "  <tbody>\n",
       "    <tr>\n",
       "      <th>0</th>\n",
       "      <td>Data Analyst</td>\n",
       "      <td>70030</td>\n",
       "    </tr>\n",
       "    <tr>\n",
       "      <th>1</th>\n",
       "      <td>Data Scientist</td>\n",
       "      <td>108021</td>\n",
       "    </tr>\n",
       "    <tr>\n",
       "      <th>2</th>\n",
       "      <td>Business Analyst</td>\n",
       "      <td>71300</td>\n",
       "    </tr>\n",
       "    <tr>\n",
       "      <th>3</th>\n",
       "      <td>Software Engineer</td>\n",
       "      <td>92505</td>\n",
       "    </tr>\n",
       "  </tbody>\n",
       "</table>\n",
       "</div>"
      ],
      "text/plain": [
       "           Job Title  Salary\n",
       "0       Data Analyst   70030\n",
       "1     Data Scientist  108021\n",
       "2   Business Analyst   71300\n",
       "3  Software Engineer   92505"
      ]
     },
     "execution_count": 364,
     "metadata": {},
     "output_type": "execute_result"
    }
   ],
   "source": [
    "print(salary_table)\n",
    "salary_table.head()"
   ]
  },
  {
   "cell_type": "code",
   "execution_count": 334,
   "id": "6cb64d3d",
   "metadata": {},
   "outputs": [
    {
     "data": {
      "image/png": "[encoded data removed]",
      "text/plain": [
       "<Figure size 1000x600 with 1 Axes>"
      ]
     },
     "metadata": {},
     "output_type": "display_data"
    }
   ],
   "source": [
    "labels = ['Data Analyst', 'Data Scientist', 'Business Analyst', 'Software Engineer']\n",
    "values = [data_analyst_salary['Salary'].values[0],\n",
    "          data_scientist_salary['Salary'].values[0],\n",
    "          business_analyst_salary['Salary'].values[0],\n",
    "          software_engineer_salary['Salary'].values[0]]\n",
    "\n",
    "# Create the chart\n",
    "fig, ax = plt.subplots(figsize=(10,6), facecolor=(.94, .94, .94))\n",
    "ax.bar(labels, values)\n",
    "\n",
    "# Add values on top of bars\n",
    "for i, v in enumerate(values):\n",
    "    ax.text(i, v + 1000, str(v), ha='center', fontsize=10)\n",
    "\n",
    "# Add title and labels\n",
    "ax.set_title('Comparison of Salaries by Job Title')\n",
    "ax.set_xlabel('Job Title')\n",
    "ax.set_ylabel('Salary')\n",
    "\n",
    "plt.show()"
   ]
  },
  {
   "cell_type": "code",
   "execution_count": 352,
   "id": "e9616aa5",
   "metadata": {},
   "outputs": [
    {
     "data": {
      "image/png": "[encoded data removed]",
      "text/plain": [
       "<Figure size 1000x600 with 2 Axes>"
      ]
     },
     "metadata": {},
     "output_type": "display_data"
    }
   ],
   "source": [
    "labels = ['Data Analyst', 'Data Scientist', 'Business Analyst', 'Software Engineer']\n",
    "values = [data_analyst_salary['Salary'].values[0],\n",
    "          data_scientist_salary['Salary'].values[0],\n",
    "          business_analyst_salary['Salary'].values[0],\n",
    "          software_engineer_salary['Salary'].values[0]]\n",
    "\n",
    "# Define the colors for the gradient\n",
    "color_range = ['#0092C7', '#00BFF3', '#90E0EF', '#FFC300', '#FF5733']\n",
    "color_scale = np.linspace(0, 1, len(values) + 1)\n",
    "\n",
    "# Create the chart\n",
    "fig, ax = plt.subplots(figsize=(10,6), facecolor=(.94, .94, .94))\n",
    "\n",
    "# Add the gradient bars\n",
    "for i, (label, value) in enumerate(zip(labels, values)):\n",
    "    color = plt.cm.colors.to_hex(plt.cm.Oranges(color_scale[i]))\n",
    "    ax.bar(label, value, color=color)\n",
    "\n",
    "# Add values on top of bars\n",
    "for i, v in enumerate(values):\n",
    "    ax.text(i, v + 1000, str(v), ha='center', fontsize=10)\n",
    "\n",
    "# Add title and labels\n",
    "ax.set_title('Comparison of Salaries by Job Title')\n",
    "ax.set_xlabel('Job Title')\n",
    "ax.set_ylabel('Salary')\n",
    "\n",
    "# Set the color range as the legend\n",
    "sm = plt.cm.ScalarMappable(cmap=plt.cm.Oranges, norm=plt.Normalize(vmin=0, vmax=len(values)))\n",
    "sm.set_array([])\n",
    "fig.colorbar(sm, ticks=color_scale[1:], label='Salary range')\n",
    "\n",
    "plt.show()\n"
   ]
  },
  {
   "cell_type": "code",
   "execution_count": 221,
   "id": "9ee409a6",
   "metadata": {},
   "outputs": [
    {
     "name": "stdout",
     "output_type": "stream",
     "text": [
      "The highest salary is: 108021\n",
      "The lowest salary is: 70030\n",
      "The average salary is: 85464.0\n"
     ]
    }
   ],
   "source": [
    "salaries = [70030, 71300, 92505, 108021]\n",
    "max_salary = max(salaries)\n",
    "min_salary = min(salaries)\n",
    "avg_salary = sum(salaries) / len(salaries)\n",
    "\n",
    "print(\"The highest salary is:\", max_salary)\n",
    "print(\"The lowest salary is:\", min_salary)\n",
    "print(\"The average salary is:\", avg_salary)"
   ]
  },
  {
   "cell_type": "code",
   "execution_count": 230,
   "id": "99f6ce29",
   "metadata": {},
   "outputs": [
    {
     "data": {
      "text/html": [
       "<style type=\"text/css\">\n",
       "#T_de287 table {\n",
       "  width: 500px;\n",
       "}\n",
       "#T_de287_row0_col1 {\n",
       "  background-color: red;\n",
       "}\n",
       "#T_de287_row3_col1 {\n",
       "  background-color: green;\n",
       "}\n",
       "</style>\n",
       "<table id=\"T_de287\">\n",
       "  <thead>\n",
       "    <tr>\n",
       "      <th class=\"blank level0\" >&nbsp;</th>\n",
       "      <th id=\"T_de287_level0_col0\" class=\"col_heading level0 col0\" >Name</th>\n",
       "      <th id=\"T_de287_level0_col1\" class=\"col_heading level0 col1\" >Salary</th>\n",
       "    </tr>\n",
       "  </thead>\n",
       "  <tbody>\n",
       "    <tr>\n",
       "      <th id=\"T_de287_level0_row0\" class=\"row_heading level0 row0\" >0</th>\n",
       "      <td id=\"T_de287_row0_col0\" class=\"data row0 col0\" >Data Analyst</td>\n",
       "      <td id=\"T_de287_row0_col1\" class=\"data row0 col1\" >70030</td>\n",
       "    </tr>\n",
       "    <tr>\n",
       "      <th id=\"T_de287_level0_row1\" class=\"row_heading level0 row1\" >1</th>\n",
       "      <td id=\"T_de287_row1_col0\" class=\"data row1 col0\" >Business Analyst</td>\n",
       "      <td id=\"T_de287_row1_col1\" class=\"data row1 col1\" >71300</td>\n",
       "    </tr>\n",
       "    <tr>\n",
       "      <th id=\"T_de287_level0_row2\" class=\"row_heading level0 row2\" >2</th>\n",
       "      <td id=\"T_de287_row2_col0\" class=\"data row2 col0\" >Software Enigneer</td>\n",
       "      <td id=\"T_de287_row2_col1\" class=\"data row2 col1\" >92505</td>\n",
       "    </tr>\n",
       "    <tr>\n",
       "      <th id=\"T_de287_level0_row3\" class=\"row_heading level0 row3\" >3</th>\n",
       "      <td id=\"T_de287_row3_col0\" class=\"data row3 col0\" >Data Scientist</td>\n",
       "      <td id=\"T_de287_row3_col1\" class=\"data row3 col1\" >108021</td>\n",
       "    </tr>\n",
       "  </tbody>\n",
       "</table>\n"
      ],
      "text/plain": [
       "<pandas.io.formats.style.Styler at 0x7fd53bfcbaf0>"
      ]
     },
     "execution_count": 230,
     "metadata": {},
     "output_type": "execute_result"
    }
   ],
   "source": [
    "# Create a DataFrame with the salary data\n",
    "salaries = pd.DataFrame({'Name': ['Data Analyst', 'Business Analyst', 'Software Enigneer', 'Data Scientist'],\n",
    "                         'Salary': [70030, 71300, 92505, 108021]})\n",
    "\n",
    "def highlight_max_min(s):\n",
    "    '''\n",
    "    highlight the maximum and minimum in a Series yellow.\n",
    "    '''\n",
    "    max_val = s.max()\n",
    "    min_val = s.min()\n",
    "    is_max = s == max_val\n",
    "    is_min = s == min_val\n",
    "    return ['background-color: green' if x else 'background-color: red' if y else '' for x,y in zip(is_max, is_min)]\n",
    "\n",
    "# Apply the function to the Salary column of the DataFrame\n",
    "highlighted_salaries = salaries.style.apply(highlight_max_min, subset=['Salary'])\n",
    "\n",
    "# Set the width of the table\n",
    "table_styles = [{'selector': 'table', 'props': [('width', '500px')]}]\n",
    "highlighted_salaries.set_table_styles(table_styles)\n"
   ]
  },
  {
   "cell_type": "code",
   "execution_count": null,
   "id": "564788fa",
   "metadata": {},
   "outputs": [],
   "source": []
  }
 ],
 "metadata": {
  "kernelspec": {
   "display_name": "Python 3 (ipykernel)",
   "language": "python",
   "name": "python3"
  },
  "language_info": {
   "codemirror_mode": {
    "name": "ipython",
    "version": 3
   },
   "file_extension": ".py",
   "mimetype": "text/x-python",
   "name": "python",
   "nbconvert_exporter": "python",
   "pygments_lexer": "ipython3",
   "version": "3.9.13"
  }
 },
 "nbformat": 4,
 "nbformat_minor": 5
}
